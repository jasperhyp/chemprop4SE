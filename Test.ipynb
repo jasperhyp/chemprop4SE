{
 "cells": [
  {
   "cell_type": "code",
   "execution_count": 1,
   "id": "4c53e75d",
   "metadata": {
    "scrolled": true
   },
   "outputs": [
    {
     "name": "stdout",
     "output_type": "stream",
     "text": [
      "Dockerfile\t   data_processed\t\t   setup.cfg\r\n",
      "LICENSE.txt\t   docs\t\t\t\t   setup.py\r\n",
      "README.md\t   environment.yml\t\t   sklearn_predict.py\r\n",
      "Test.ipynb\t   fingerprint.py\t\t   sklearn_train.py\r\n",
      "__MACOSX\t   hyperparameter_optimization.py  split_units.out\r\n",
      "__init__.py\t   interpret.py\t\t\t   split_units_new.out\r\n",
      "checkpoint\t   my_test.ipynb\t\t   tests\r\n",
      "chemprop\t   nohup.out\t\t\t   train.py\r\n",
      "chemprop.egg-info  predict.py\t\t\t   web.py\r\n",
      "data\t\t   scripts\r\n"
     ]
    }
   ],
   "source": [
    "!ls"
   ]
  },
  {
   "cell_type": "code",
   "execution_count": 4,
   "id": "4f479d72",
   "metadata": {},
   "outputs": [],
   "source": [
    "import numpy as np\n",
    "import pandas as pd\n",
    "import re\n",
    "\n",
    "with open(\"results/split_units_0.2_256_5e-3_shared_layer.out\") as f:\n",
    "#     while (a!=\"Command line\"):\n",
    "    a = f.readlines()\n",
    "\n",
    "loss_list = []\n",
    "val_aucs = []\n",
    "\n",
    "for i in np.arange(3886, 14356):\n",
    "#     try:\n",
    "#         if (a[i][50]=='L'):\n",
    "#             loss_list.append(float(a[i][57:67]))\n",
    "#         if (a[i][51]=='L'):\n",
    "#             loss_list.append(float(a[i][58:68]))\n",
    "#         if (a[i][52]=='L'):\n",
    "#             loss_list.append(float(a[i][59:69]))\n",
    "#     except:\n",
    "#         pass\n",
    "    try:\n",
    "        _, end = re.search(\"Loss\", a[i]).span()\n",
    "        loss_list.append(float(a[i][(end+3):(end+13)]))\n",
    "    except:\n",
    "        pass\n",
    "    try:\n",
    "        _, end = re.search(\"AValidation\", a[i]).span()\n",
    "        val_aucs.append(float(a[i][(end+7):(end+15)]))\n",
    "    except:\n",
    "        pass"
   ]
  },
  {
   "cell_type": "code",
   "execution_count": 5,
   "id": "190e5859",
   "metadata": {},
   "outputs": [
    {
     "data": {
      "text/plain": [
       "[<matplotlib.lines.Line2D at 0x7fa4e6b67b90>]"
      ]
     },
     "execution_count": 5,
     "metadata": {},
     "output_type": "execute_result"
    },
    {
     "data": {
      "image/png": "[encoded data removed]",
      "text/plain": [
       "<Figure size 864x288 with 2 Axes>"
      ]
     },
     "metadata": {
      "needs_background": "light"
     },
     "output_type": "display_data"
    }
   ],
   "source": [
    "import matplotlib.pyplot as plt\n",
    "\n",
    "plt.figure(figsize=(12, 4))\n",
    "\n",
    "plt.subplot(1, 2, 1)\n",
    "plt.plot(np.arange(0, len(loss_list)), loss_list[0:])\n",
    "\n",
    "plt.subplot(1, 2, 2)\n",
    "plt.plot(np.arange(0, len(val_aucs)), val_aucs[0:])\n"
   ]
  },
  {
   "cell_type": "code",
   "execution_count": null,
   "id": "56663dfe",
   "metadata": {},
   "outputs": [],
   "source": [
    "from sklearn.decomposition import TruncatedSVD\n",
    "\n",
    "mono = pd.read_csv(\"data/mono.csv\")\n",
    "\n",
    "svd = TruncatedSVD\n"
   ]
  }
 ],
 "metadata": {
  "kernelspec": {
   "display_name": "Python 3",
   "language": "python",
   "name": "python3"
  },
  "language_info": {
   "codemirror_mode": {
    "name": "ipython",
    "version": 3
   },
   "file_extension": ".py",
   "mimetype": "text/x-python",
   "name": "python",
   "nbconvert_exporter": "python",
   "pygments_lexer": "ipython3",
   "version": "3.7.12"
  }
 },
 "nbformat": 4,
 "nbformat_minor": 5
}
